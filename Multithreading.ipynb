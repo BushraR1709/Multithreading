{
 "cells": [
  {
   "cell_type": "markdown",
   "id": "c6af5efb-a79c-476e-bd17-69aca3c24a25",
   "metadata": {},
   "source": [
    "Q1. What is multithreading in python? Why is it used? Name the module used to handle threads in python."
   ]
  },
  {
   "cell_type": "code",
   "execution_count": 1,
   "id": "671b8f69-31e7-4f5e-bc90-165037d6c8ee",
   "metadata": {},
   "outputs": [],
   "source": [
    "# Multithreading is defined as the ability of a processor to execute multiple threads concurrently.\n",
    "# In a simple, single-core CPU, it is achieved using frequent switching between threads.\n",
    "# Multithreading is used to do multiprogramming at a time.\n",
    "# A module named 'threading' is used to handle threads in python by just import threading."
   ]
  },
  {
   "cell_type": "markdown",
   "id": "27b6f039-0f21-433f-99b3-01da81a71f4a",
   "metadata": {},
   "source": [
    "Q2. Why threading module used? Write the use of the following functions:\n",
    "\n",
    "1. activeCount()\n",
    "2. currentThread()\n",
    "3. enumerate()"
   ]
  },
  {
   "cell_type": "code",
   "execution_count": 3,
   "id": "a8aced48-7aa4-4e70-9f47-12ef5b51495f",
   "metadata": {},
   "outputs": [],
   "source": [
    "#Threading is used to do multitasking at a time.\n",
    "#1. activeCount(): \n",
    "#The threading.active_count() is an inbuilt method of the threading module, \n",
    "#it is used to return the number of Thread objects that are active at any instant.\n",
    "\n",
    "#2. currentThread():\n",
    "# currentThread() is use it to determine the number of thread objects in the caller’s thread control.\n",
    "\n",
    "#3. enumerate(): It will give a complete list of thread objects that are currently active."
   ]
  },
  {
   "cell_type": "markdown",
   "id": "147c041a-e2b6-441c-9912-ebea7575f0b9",
   "metadata": {},
   "source": [
    "Q3. Explain the following functions:\n",
    "1. run()\n",
    "2. start()\n",
    "3. join()\n",
    "4. isAlive()"
   ]
  },
  {
   "cell_type": "code",
   "execution_count": 4,
   "id": "733713a5-3f66-4570-bd24-807d1270c358",
   "metadata": {},
   "outputs": [],
   "source": [
    "# 1.run(): It is the entry point function for any thread. Its act as an entry. \n",
    "# 2.start(): It is used for starting the thread by calling the run().\n",
    "# 3.join(): The join() method enables a program to wait for threads to terminate.\n",
    "# 4.isAlive(): The isAlive() method verifies an active thread (verify whether the program still executing or not).\n"
   ]
  },
  {
   "cell_type": "markdown",
   "id": "a29bb5b4-a5b7-4a1f-afd6-3ec280afb505",
   "metadata": {},
   "source": [
    "4. Write a python program to create two threads. Thread one must print the list of squares and thread two must print the list of cubes."
   ]
  },
  {
   "cell_type": "code",
   "execution_count": 29,
   "id": "26b7de5f-fc32-4cfb-ab5c-61a34b964dae",
   "metadata": {},
   "outputs": [],
   "source": [
    "import threading\n",
    "th=[]\n",
    "\n",
    "def squares():\n",
    "    for i in range(1, 6):\n",
    "        print(f\"Square of {i} is {i**2}\")\n",
    "\n",
    "def cubes():\n",
    "    for i in range(1, 6):\n",
    "        print(f\"Cube of {i} is {i**3}\")"
   ]
  },
  {
   "cell_type": "code",
   "execution_count": 30,
   "id": "53896b2e-e7aa-452a-93bc-4be42cdbd265",
   "metadata": {},
   "outputs": [],
   "source": [
    "thread1 = threading.Thread(target = squares)\n",
    "thread2 = threading.Thread(target = cubes)"
   ]
  },
  {
   "cell_type": "code",
   "execution_count": 31,
   "id": "0ab91de4-3de7-4c21-acff-0855364397a6",
   "metadata": {},
   "outputs": [
    {
     "name": "stdout",
     "output_type": "stream",
     "text": [
      "Square of 1 is 1\n",
      "Square of 2 is 4\n",
      "Square of 3 is 9\n",
      "Square of 4 is 16\n",
      "Square of 5 is 25\n",
      "Cube of 1 is 1\n",
      "Cube of 2 is 8\n",
      "Cube of 3 is 27\n",
      "Cube of 4 is 64\n",
      "Cube of 5 is 125\n"
     ]
    }
   ],
   "source": [
    "thread1.start()\n",
    "thread2.start()\n",
    "thread1.join()\n",
    "thread2.join()"
   ]
  },
  {
   "cell_type": "markdown",
   "id": "dfbdc479-0e1d-4004-a832-5392bcfd57c4",
   "metadata": {},
   "source": [
    "5. State advantages and disadvantages of multithreading"
   ]
  },
  {
   "cell_type": "code",
   "execution_count": 1,
   "id": "bd5a1e29-4a72-4646-bfc5-026c2fe4d74d",
   "metadata": {},
   "outputs": [],
   "source": [
    "# Advantages\n",
    "# Multithreading can significantly improve the speed of computation because each processor or core handles a separate thread concurrently.\n",
    "# Multithreading allows a program to remain responsive while one thread waits for input.\n",
    "# All the threads of a process have access to its global variables. If a global variable changes in one thread, it is visible to other threads as well.\n",
    "# A thread can also have its own local variables.\n",
    "\n",
    "# Disadvantages \n",
    "# On a single-processor system, multithreading won’t hit the speed of computation. \n",
    "# The performance may downgrade due to the overhead of managing threads.\n",
    "# The complexity increases with the increase in the number of threads.\n",
    "# It is difficult to debug the programs with threads as the result is sometimes unpredictable."
   ]
  },
  {
   "cell_type": "markdown",
   "id": "e28074c5-1eb6-4f5d-b8bb-9ed0c2afcf72",
   "metadata": {},
   "source": [
    "Q6. Explain deadlocks and race conditions."
   ]
  },
  {
   "cell_type": "code",
   "execution_count": 1,
   "id": "d52c7be1-cea5-4a11-9673-80ce8fd12d30",
   "metadata": {},
   "outputs": [],
   "source": [
    "# Deadlocks:\n",
    "    \n",
    "# If two or more processes are waiting on happening of some event which never happens then we say these processes core involved in deadlock and that \n",
    "# state is called deadlock.\n",
    "\n",
    "# Race conditions:\n",
    "\n",
    "# Race condition is a bug generated when you do multiprocessing. It occurs because two or more thread tries to update the same variable and results \n",
    "# into unreliable output.\n"
   ]
  },
  {
   "cell_type": "code",
   "execution_count": null,
   "id": "dffb6df9-89cb-4034-a50b-5cbcb9ff8a96",
   "metadata": {},
   "outputs": [],
   "source": []
  }
 ],
 "metadata": {
  "kernelspec": {
   "display_name": "Python 3 (ipykernel)",
   "language": "python",
   "name": "python3"
  },
  "language_info": {
   "codemirror_mode": {
    "name": "ipython",
    "version": 3
   },
   "file_extension": ".py",
   "mimetype": "text/x-python",
   "name": "python",
   "nbconvert_exporter": "python",
   "pygments_lexer": "ipython3",
   "version": "3.10.8"
  }
 },
 "nbformat": 4,
 "nbformat_minor": 5
}
